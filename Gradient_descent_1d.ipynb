{
 "cells": [
  {
   "cell_type": "code",
   "execution_count": 25,
   "id": "c4fd4892",
   "metadata": {},
   "outputs": [],
   "source": [
    "import matplotlib.pyplot as plt\n",
    "import numpy as np\n",
    "import random\n",
    "from numpy.linalg import norm\n",
    "import math"
   ]
  },
  {
   "cell_type": "code",
   "execution_count": 27,
   "id": "9a3e7d88",
   "metadata": {},
   "outputs": [
    {
     "data": {
      "image/png": "[encoded data removed]",
      "text/plain": [
       "<Figure size 720x432 with 1 Axes>"
      ]
     },
     "metadata": {
      "needs_background": "light"
     },
     "output_type": "display_data"
    }
   ],
   "source": [
    "def f(x):\n",
    "    '''\n",
    "    Функция, в которой очевидно два локальных минимума\n",
    "    '''\n",
    "    return x**4 + 3 * x**3 + x**2 - 1.5 * x + 1\n",
    "\n",
    "x = np.linspace(-2.5, 1, 1000)\n",
    "y = [f(item) for item in x]\n",
    "\n",
    "def plot_my_func(x,y):\n",
    "    plt.figure(figsize=(10,6))\n",
    "    plt.plot(x,y)\n",
    "    plt.show()\n",
    "    \n",
    "plot_my_func(x,y)\n",
    "\n",
    "def df(x):\n",
    "    '''\n",
    "    Производная описанной выше функции\n",
    "    '''\n",
    "    return 4 * x**3 + 9 * x**2 + 2 * x - 1.5"
   ]
  },
  {
   "cell_type": "code",
   "execution_count": null,
   "id": "4e3e9519",
   "metadata": {},
   "outputs": [],
   "source": []
  },
  {
   "cell_type": "code",
   "execution_count": null,
   "id": "f13f9cfe",
   "metadata": {},
   "outputs": [],
   "source": []
  },
  {
   "cell_type": "code",
   "execution_count": null,
   "id": "1e3e97fe",
   "metadata": {},
   "outputs": [],
   "source": []
  },
  {
   "cell_type": "code",
   "execution_count": 28,
   "id": "1976d12b",
   "metadata": {},
   "outputs": [],
   "source": [
    "def grad_descent_v2(f, df, low=None, high=None, callback=None):\n",
    "    \n",
    "    '''\n",
    "    Функция, которая методом градиентного спуска ищет ГЛОБАЛЬНЫЙ минимум одномерной функции с несколькими\n",
    "    локальными минимумами.\n",
    "    Интервал разбивается на несколько подинтервалов, на каждом ищется локальный минимум\n",
    "    составляется кортеж из пар чисел (x_min_loc, f(x_min_loc)), глобальный минимум соответствует минимуму f\n",
    "    '''\n",
    "    \n",
    "    def find_local_min(f, df, low_local, high_local, iters=5000, lr=0.05):\n",
    "        \n",
    "        #функция для нахождения минимума функции f на промежутке (low_local, high_local)\n",
    "        x0 = np.random.uniform(low_local, high_local)\n",
    "        x = x0\n",
    "\n",
    "        for i in range(1,iters):\n",
    "            if df(x) > 0:\n",
    "                k = 1 if df(x) > 0 else -1 #соответствует условию нормирования градиента функции\n",
    "                x -= k * lr * 1 / (i + 1)**0.5\n",
    "                x = np.clip(x, low_local, high_local) #используется, чтобы не вылетало за диапазон Low, High\n",
    "            elif df(x) < 0:\n",
    "                x += lr*abs(df(x))/math.sqrt(i)\n",
    "                x = np.clip(x, low_local, high_local)\n",
    "\n",
    "        return x\n",
    "    \n",
    "    #интервал разбивается на подинтервалы\n",
    "    intervals = np.arange(low, high, (high - low)/10)\n",
    "    lst_mins = []\n",
    "    for i in range(0, len(intervals)-1):\n",
    "        local_x = find_local_min(f, df, intervals[i], intervals[i+1])\n",
    "        lst_mins.append((local_x, f(local_x)))\n",
    "        \n",
    "\n",
    "    best_estimate = min(lst_mins, key = lambda x: x[1])\n",
    "    best_estimate = best_estimate[0]\n",
    "\n",
    "    return best_estimate"
   ]
  },
  {
   "cell_type": "code",
   "execution_count": 30,
   "id": "76ec55df",
   "metadata": {},
   "outputs": [
    {
     "name": "stdout",
     "output_type": "stream",
     "text": [
      "-1.8772390205247458\n"
     ]
    }
   ],
   "source": [
    "print(grad_descent_v2(f, df, -10, 20))"
   ]
  },
  {
   "cell_type": "code",
   "execution_count": null,
   "id": "cf3d6f95",
   "metadata": {},
   "outputs": [],
   "source": []
  },
  {
   "cell_type": "code",
   "execution_count": null,
   "id": "43c921d8",
   "metadata": {},
   "outputs": [],
   "source": []
  },
  {
   "cell_type": "code",
   "execution_count": null,
   "id": "f5d539a0",
   "metadata": {},
   "outputs": [],
   "source": []
  },
  {
   "cell_type": "code",
   "execution_count": null,
   "id": "7a6c0b7f",
   "metadata": {},
   "outputs": [],
   "source": []
  }
 ],
 "metadata": {
  "kernelspec": {
   "display_name": "Python 3 (ipykernel)",
   "language": "python",
   "name": "python3"
  },
  "language_info": {
   "codemirror_mode": {
    "name": "ipython",
    "version": 3
   },
   "file_extension": ".py",
   "mimetype": "text/x-python",
   "name": "python",
   "nbconvert_exporter": "python",
   "pygments_lexer": "ipython3",
   "version": "3.9.7"
  }
 },
 "nbformat": 4,
 "nbformat_minor": 5
}
