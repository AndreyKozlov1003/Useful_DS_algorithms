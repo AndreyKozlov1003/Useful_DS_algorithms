{
 "cells": [
  {
   "cell_type": "code",
   "execution_count": 21,
   "id": "1e8ff70e",
   "metadata": {},
   "outputs": [],
   "source": [
    "import math\n",
    "\n",
    "class SolGelWaveguide:\n",
    "    '''\n",
    "    Класс для создания объекта с характеристиками планарного волновода\n",
    "    '''\n",
    "    #длина волны излучения\n",
    "    wl = 1550*10**(-9)\n",
    "    #показатель преломления оболочки (берется для воздуха)\n",
    "    n2 = 1\n",
    "    \n",
    "    def __init__(self, n0:float, n1:float):\n",
    "        '''\n",
    "        Инициализация параметров волновода:\n",
    "        n0 - показатель преломления волноводной пленки\n",
    "        n1 - показатель преломления подложки\n",
    "        '''\n",
    "        self.n0 = n0\n",
    "        self.n1 = n1\n",
    "    def wave_factor(wl):\n",
    "        '''\n",
    "        Функция, которая расчитывает волновое число для излучения заданной длины волны\n",
    "        '''\n",
    "        return 2*math.pi/wl\n",
    "    \n",
    "    def calculate_thickness(self, m:int, hi):\n",
    "        '''\n",
    "        Функция, которая расчитывает толщину отсечки для волновода с заданными параметрами\n",
    "        m - номер моды \n",
    "        hi - параметр, равный 0 для TE моды и 1 для TM моды\n",
    "        '''\n",
    "        self.s1 = math.sqrt(self.n0**2 - self.n1**2)\n",
    "        self.s2 = math.sqrt(self.n1**2 - self.n2**2)\n",
    "        if hi == 0:\n",
    "            self.thickness = 1/wave_factor(wl)/self.s1*(math.pi*m + math.atan((self.n0/self.n1)**0)*self.s2/self.s1)\n",
    "        elif hi == 1:\n",
    "            self.thickness = 1/wave_factor(wl)/self.s1*(math.pi*m + math.atan((self.n0/self.n1)**2)*self.s2/self.s1)\n",
    "        return self.thickness\n",
    "    \n",
    "    def thickness_limit(self):\n",
    "        \n",
    "        \n",
    "    \n"
   ]
  },
  {
   "cell_type": "code",
   "execution_count": 22,
   "id": "b5ff0d12",
   "metadata": {},
   "outputs": [],
   "source": [
    "waveguide = SolGelWaveguide(1.6, 1.457)"
   ]
  },
  {
   "cell_type": "code",
   "execution_count": 24,
   "id": "d830c1d6",
   "metadata": {},
   "outputs": [
    {
     "data": {
      "text/plain": [
       "4.696463087214389e-07"
      ]
     },
     "execution_count": 24,
     "metadata": {},
     "output_type": "execute_result"
    }
   ],
   "source": [
    "waveguide.calculate_thickness(0, 0)"
   ]
  },
  {
   "cell_type": "code",
   "execution_count": null,
   "id": "e78efd66",
   "metadata": {},
   "outputs": [],
   "source": []
  }
 ],
 "metadata": {
  "kernelspec": {
   "display_name": "Python 3 (ipykernel)",
   "language": "python",
   "name": "python3"
  },
  "language_info": {
   "codemirror_mode": {
    "name": "ipython",
    "version": 3
   },
   "file_extension": ".py",
   "mimetype": "text/x-python",
   "name": "python",
   "nbconvert_exporter": "python",
   "pygments_lexer": "ipython3",
   "version": "3.9.7"
  }
 },
 "nbformat": 4,
 "nbformat_minor": 5
}
